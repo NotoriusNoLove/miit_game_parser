{
 "cells": [
  {
   "cell_type": "code",
   "execution_count": 16,
   "metadata": {},
   "outputs": [],
   "source": [
    "import pandas as pd\n",
    "import numbers as np\n",
    "import plotly.express as px\n",
    "import plotly.graph_objects as go\n",
    "\n",
    "import matplotlib.pyplot as plt\n",
    "import nbformat as nbformat\n",
    "from db.db import conn"
   ]
  },
  {
   "cell_type": "code",
   "execution_count": 34,
   "metadata": {},
   "outputs": [
    {
     "data": {
      "text/html": [
       "<div>\n",
       "<style scoped>\n",
       "    .dataframe tbody tr th:only-of-type {\n",
       "        vertical-align: middle;\n",
       "    }\n",
       "\n",
       "    .dataframe tbody tr th {\n",
       "        vertical-align: top;\n",
       "    }\n",
       "\n",
       "    .dataframe thead th {\n",
       "        text-align: right;\n",
       "    }\n",
       "</style>\n",
       "<table border=\"1\" class=\"dataframe\">\n",
       "  <thead>\n",
       "    <tr style=\"text-align: right;\">\n",
       "      <th></th>\n",
       "      <th>fname</th>\n",
       "      <th>lname</th>\n",
       "      <th>gender</th>\n",
       "    </tr>\n",
       "  </thead>\n",
       "  <tbody>\n",
       "    <tr>\n",
       "      <th>0</th>\n",
       "      <td>2023-04-01 00:00:00</td>\n",
       "      <td>10873.59</td>\n",
       "      <td>386360</td>\n",
       "    </tr>\n",
       "    <tr>\n",
       "      <th>1</th>\n",
       "      <td>2023-03-01 00:00:00</td>\n",
       "      <td>10775.19</td>\n",
       "      <td>386360</td>\n",
       "    </tr>\n",
       "    <tr>\n",
       "      <th>2</th>\n",
       "      <td>2023-02-01 00:00:00</td>\n",
       "      <td>12338.19</td>\n",
       "      <td>386360</td>\n",
       "    </tr>\n",
       "    <tr>\n",
       "      <th>3</th>\n",
       "      <td>2023-01-01 00:00:00</td>\n",
       "      <td>12704.16</td>\n",
       "      <td>386360</td>\n",
       "    </tr>\n",
       "    <tr>\n",
       "      <th>4</th>\n",
       "      <td>2022-12-01 00:00:00</td>\n",
       "      <td>8560.37</td>\n",
       "      <td>386360</td>\n",
       "    </tr>\n",
       "  </tbody>\n",
       "</table>\n",
       "</div>"
      ],
      "text/plain": [
       "                 fname     lname  gender\n",
       "0  2023-04-01 00:00:00  10873.59  386360\n",
       "1  2023-03-01 00:00:00  10775.19  386360\n",
       "2  2023-02-01 00:00:00  12338.19  386360\n",
       "3  2023-01-01 00:00:00  12704.16  386360\n",
       "4  2022-12-01 00:00:00   8560.37  386360"
      ]
     },
     "execution_count": 34,
     "metadata": {},
     "output_type": "execute_result"
    }
   ],
   "source": [
    "df = pd.read_sql(\"select * from info_game\", conn)\n",
    "df.head()"
   ]
  },
  {
   "cell_type": "code",
   "execution_count": 36,
   "metadata": {},
   "outputs": [
    {
     "data": {
      "text/html": [
       "<div>\n",
       "<style scoped>\n",
       "    .dataframe tbody tr th:only-of-type {\n",
       "        vertical-align: middle;\n",
       "    }\n",
       "\n",
       "    .dataframe tbody tr th {\n",
       "        vertical-align: top;\n",
       "    }\n",
       "\n",
       "    .dataframe thead th {\n",
       "        text-align: right;\n",
       "    }\n",
       "</style>\n",
       "<table border=\"1\" class=\"dataframe\">\n",
       "  <thead>\n",
       "    <tr style=\"text-align: right;\">\n",
       "      <th></th>\n",
       "      <th>fname</th>\n",
       "      <th>lname</th>\n",
       "      <th>gender</th>\n",
       "    </tr>\n",
       "  </thead>\n",
       "  <tbody>\n",
       "    <tr>\n",
       "      <th>92</th>\n",
       "      <td>2023-04-01 00:00:00</td>\n",
       "      <td>429226.47</td>\n",
       "      <td>570</td>\n",
       "    </tr>\n",
       "    <tr>\n",
       "      <th>93</th>\n",
       "      <td>2023-03-01 00:00:00</td>\n",
       "      <td>418744.49</td>\n",
       "      <td>570</td>\n",
       "    </tr>\n",
       "    <tr>\n",
       "      <th>94</th>\n",
       "      <td>2023-02-01 00:00:00</td>\n",
       "      <td>401847.04</td>\n",
       "      <td>570</td>\n",
       "    </tr>\n",
       "    <tr>\n",
       "      <th>95</th>\n",
       "      <td>2023-01-01 00:00:00</td>\n",
       "      <td>428296.61</td>\n",
       "      <td>570</td>\n",
       "    </tr>\n",
       "    <tr>\n",
       "      <th>96</th>\n",
       "      <td>2022-12-01 00:00:00</td>\n",
       "      <td>468545.02</td>\n",
       "      <td>570</td>\n",
       "    </tr>\n",
       "    <tr>\n",
       "      <th>...</th>\n",
       "      <td>...</td>\n",
       "      <td>...</td>\n",
       "      <td>...</td>\n",
       "    </tr>\n",
       "    <tr>\n",
       "      <th>217</th>\n",
       "      <td>2012-11-01 00:00:00</td>\n",
       "      <td>101077.43</td>\n",
       "      <td>570</td>\n",
       "    </tr>\n",
       "    <tr>\n",
       "      <th>218</th>\n",
       "      <td>2012-10-01 00:00:00</td>\n",
       "      <td>75965.44</td>\n",
       "      <td>570</td>\n",
       "    </tr>\n",
       "    <tr>\n",
       "      <th>219</th>\n",
       "      <td>2012-09-01 00:00:00</td>\n",
       "      <td>61867.68</td>\n",
       "      <td>570</td>\n",
       "    </tr>\n",
       "    <tr>\n",
       "      <th>220</th>\n",
       "      <td>2012-08-01 00:00:00</td>\n",
       "      <td>55768.61</td>\n",
       "      <td>570</td>\n",
       "    </tr>\n",
       "    <tr>\n",
       "      <th>221</th>\n",
       "      <td>2012-07-01 00:00:00</td>\n",
       "      <td>52721.05</td>\n",
       "      <td>570</td>\n",
       "    </tr>\n",
       "  </tbody>\n",
       "</table>\n",
       "<p>130 rows × 3 columns</p>\n",
       "</div>"
      ],
      "text/plain": [
       "                   fname      lname gender\n",
       "92   2023-04-01 00:00:00  429226.47    570\n",
       "93   2023-03-01 00:00:00  418744.49    570\n",
       "94   2023-02-01 00:00:00  401847.04    570\n",
       "95   2023-01-01 00:00:00  428296.61    570\n",
       "96   2022-12-01 00:00:00  468545.02    570\n",
       "..                   ...        ...    ...\n",
       "217  2012-11-01 00:00:00  101077.43    570\n",
       "218  2012-10-01 00:00:00   75965.44    570\n",
       "219  2012-09-01 00:00:00   61867.68    570\n",
       "220  2012-08-01 00:00:00   55768.61    570\n",
       "221  2012-07-01 00:00:00   52721.05    570\n",
       "\n",
       "[130 rows x 3 columns]"
      ]
     },
     "execution_count": 36,
     "metadata": {},
     "output_type": "execute_result"
    }
   ],
   "source": [
    "df[df['gender'].isin(['570'])]"
   ]
  },
  {
   "cell_type": "code",
   "execution_count": 24,
   "metadata": {},
   "outputs": [
    {
     "data": {
      "application/vnd.plotly.v1+json": {
       "config": {
        "plotlyServerURL": "https://plot.ly"
       },
       "data": [
        {
         "type": "scatter",
         "x": [
          "2023-04-01 00:00:00",
          "2023-03-01 00:00:00",
          "2023-02-01 00:00:00",
          "2023-01-01 00:00:00",
          "2022-12-01 00:00:00",
          "2022-11-01 00:00:00",
          "2022-10-01 00:00:00",
          "2022-09-01 00:00:00",
          "2022-08-01 00:00:00",
          "2022-07-01 00:00:00",
          "2022-06-01 00:00:00",
          "2022-05-01 00:00:00",
          "2022-04-01 00:00:00",
          "2022-03-01 00:00:00",
          "2022-02-01 00:00:00",
          "2022-01-01 00:00:00",
          "2021-12-01 00:00:00",
          "2021-11-01 00:00:00",
          "2021-10-01 00:00:00",
          "2021-09-01 00:00:00",
          "2021-08-01 00:00:00",
          "2021-07-01 00:00:00",
          "2021-06-01 00:00:00",
          "2021-05-01 00:00:00",
          "2021-04-01 00:00:00",
          "2021-03-01 00:00:00",
          "2021-02-01 00:00:00",
          "2021-01-01 00:00:00",
          "2020-12-01 00:00:00",
          "2020-11-01 00:00:00",
          "2020-10-01 00:00:00",
          "2020-09-01 00:00:00",
          "2020-08-01 00:00:00",
          "2020-07-01 00:00:00",
          "2020-06-01 00:00:00",
          "2020-05-01 00:00:00",
          "2020-04-01 00:00:00",
          "2020-03-01 00:00:00",
          "2020-02-01 00:00:00",
          "2020-01-01 00:00:00",
          "2019-12-01 00:00:00",
          "2019-11-01 00:00:00",
          "2019-10-01 00:00:00",
          "2019-09-01 00:00:00",
          "2019-08-01 00:00:00",
          "2019-07-01 00:00:00",
          "2019-06-01 00:00:00",
          "2019-05-01 00:00:00",
          "2019-04-01 00:00:00",
          "2019-03-01 00:00:00",
          "2019-02-01 00:00:00",
          "2019-01-01 00:00:00",
          "2018-12-01 00:00:00",
          "2018-11-01 00:00:00",
          "2018-10-01 00:00:00",
          "2018-09-01 00:00:00",
          "2018-08-01 00:00:00",
          "2018-07-01 00:00:00",
          "2018-06-01 00:00:00",
          "2018-05-01 00:00:00",
          "2018-04-01 00:00:00",
          "2018-03-01 00:00:00",
          "2018-02-01 00:00:00",
          "2018-01-01 00:00:00",
          "2017-12-01 00:00:00",
          "2017-11-01 00:00:00",
          "2017-10-01 00:00:00",
          "2017-09-01 00:00:00",
          "2017-08-01 00:00:00",
          "2017-07-01 00:00:00",
          "2017-06-01 00:00:00",
          "2017-05-01 00:00:00",
          "2017-04-01 00:00:00",
          "2017-03-01 00:00:00",
          "2017-02-01 00:00:00",
          "2017-01-01 00:00:00",
          "2016-12-01 00:00:00",
          "2016-11-01 00:00:00",
          "2016-10-01 00:00:00",
          "2016-09-01 00:00:00",
          "2016-08-01 00:00:00",
          "2016-07-01 00:00:00",
          "2016-06-01 00:00:00",
          "2016-05-01 00:00:00",
          "2016-04-01 00:00:00",
          "2016-03-01 00:00:00",
          "2016-02-01 00:00:00",
          "2016-01-01 00:00:00",
          "2015-12-01 00:00:00",
          "2015-11-01 00:00:00",
          "2015-10-01 00:00:00",
          "2015-09-01 00:00:00",
          "2015-08-01 00:00:00",
          "2015-07-01 00:00:00",
          "2015-06-01 00:00:00",
          "2015-05-01 00:00:00",
          "2015-04-01 00:00:00",
          "2015-03-01 00:00:00",
          "2015-02-01 00:00:00",
          "2015-01-01 00:00:00",
          "2014-12-01 00:00:00",
          "2014-11-01 00:00:00",
          "2014-10-01 00:00:00",
          "2014-09-01 00:00:00",
          "2014-08-01 00:00:00",
          "2014-07-01 00:00:00",
          "2014-06-01 00:00:00",
          "2014-05-01 00:00:00",
          "2014-04-01 00:00:00",
          "2014-03-01 00:00:00",
          "2014-02-01 00:00:00",
          "2014-01-01 00:00:00",
          "2013-12-01 00:00:00",
          "2013-11-01 00:00:00",
          "2013-10-01 00:00:00",
          "2013-09-01 00:00:00",
          "2013-08-01 00:00:00",
          "2013-07-01 00:00:00",
          "2013-06-01 00:00:00",
          "2013-05-01 00:00:00",
          "2013-04-01 00:00:00",
          "2013-03-01 00:00:00",
          "2013-02-01 00:00:00",
          "2013-01-01 00:00:00",
          "2012-12-01 00:00:00",
          "2012-11-01 00:00:00",
          "2012-10-01 00:00:00",
          "2012-09-01 00:00:00",
          "2012-08-01 00:00:00",
          "2012-07-01 00:00:00"
         ],
         "y": [
          429226.47,
          418744.49,
          401847.04,
          428296.61,
          468545.02,
          523684.06,
          456302.65,
          490724.86,
          468466.87,
          444594.56,
          458143.51,
          446916.9,
          451826.77,
          448723.6,
          450200.14,
          485791.43,
          449297.37,
          448860.53,
          450761.44,
          391082.08,
          424980.17,
          423156.18,
          421509.96,
          415144.96,
          413784.97,
          390412.76,
          404832.13,
          432671.65,
          422552.32,
          425904.83,
          406361.36,
          408609.78,
          429717.12,
          450213.99,
          457184.42,
          484189.02,
          493300.27,
          437147.36,
          405978.65,
          378925.43,
          384179.76,
          401931.8,
          388355.86,
          421971.24,
          467148.29,
          464787.61,
          507528.44,
          548523.18,
          520218.98,
          586505.85,
          564909.67,
          475747,
          439367.83,
          461073.48,
          431173.91,
          466470.74,
          476101.08,
          441714.35,
          473900,
          474325.87,
          430340.94,
          437262.35,
          438847.72,
          486861.91,
          513074.33,
          487381.24,
          466126.79,
          491450.16,
          556496.3,
          498444.38,
          555289.07,
          567526.42,
          540278.03,
          548435.44,
          591567.25,
          580281.47,
          593920.6,
          584251.33,
          639355.14,
          622583.9,
          666013.05,
          638212.65,
          640226.98,
          623798.67,
          656944.37,
          672554.89,
          709178.26,
          612174.78,
          573344.25,
          539536.33,
          521941.72,
          508156.85,
          606943.98,
          554991.01,
          568448.32,
          580348.42,
          526061.73,
          571713.15,
          628970.41,
          558504.33,
          523940.32,
          528789.8,
          495693.04,
          477998.45,
          490883.89,
          537018.66,
          513783.06,
          482387.24,
          421710.21,
          409755.56,
          421114.2,
          393860.32,
          366606.49,
          348246.37,
          329677.64,
          312424.76,
          330720.07,
          237800.08,
          210224.82,
          194363.84,
          174835.73,
          180878.9,
          166972.97,
          147748.14,
          121924.42,
          101077.43,
          75965.44,
          61867.68,
          55768.61,
          52721.05
         ]
        }
       ],
       "layout": {
        "template": {
         "data": {
          "bar": [
           {
            "error_x": {
             "color": "#2a3f5f"
            },
            "error_y": {
             "color": "#2a3f5f"
            },
            "marker": {
             "line": {
              "color": "#E5ECF6",
              "width": 0.5
             },
             "pattern": {
              "fillmode": "overlay",
              "size": 10,
              "solidity": 0.2
             }
            },
            "type": "bar"
           }
          ],
          "barpolar": [
           {
            "marker": {
             "line": {
              "color": "#E5ECF6",
              "width": 0.5
             },
             "pattern": {
              "fillmode": "overlay",
              "size": 10,
              "solidity": 0.2
             }
            },
            "type": "barpolar"
           }
          ],
          "carpet": [
           {
            "aaxis": {
             "endlinecolor": "#2a3f5f",
             "gridcolor": "white",
             "linecolor": "white",
             "minorgridcolor": "white",
             "startlinecolor": "#2a3f5f"
            },
            "baxis": {
             "endlinecolor": "#2a3f5f",
             "gridcolor": "white",
             "linecolor": "white",
             "minorgridcolor": "white",
             "startlinecolor": "#2a3f5f"
            },
            "type": "carpet"
           }
          ],
          "choropleth": [
           {
            "colorbar": {
             "outlinewidth": 0,
             "ticks": ""
            },
            "type": "choropleth"
           }
          ],
          "contour": [
           {
            "colorbar": {
             "outlinewidth": 0,
             "ticks": ""
            },
            "colorscale": [
             [
              0,
              "#0d0887"
             ],
             [
              0.1111111111111111,
              "#46039f"
             ],
             [
              0.2222222222222222,
              "#7201a8"
             ],
             [
              0.3333333333333333,
              "#9c179e"
             ],
             [
              0.4444444444444444,
              "#bd3786"
             ],
             [
              0.5555555555555556,
              "#d8576b"
             ],
             [
              0.6666666666666666,
              "#ed7953"
             ],
             [
              0.7777777777777778,
              "#fb9f3a"
             ],
             [
              0.8888888888888888,
              "#fdca26"
             ],
             [
              1,
              "#f0f921"
             ]
            ],
            "type": "contour"
           }
          ],
          "contourcarpet": [
           {
            "colorbar": {
             "outlinewidth": 0,
             "ticks": ""
            },
            "type": "contourcarpet"
           }
          ],
          "heatmap": [
           {
            "colorbar": {
             "outlinewidth": 0,
             "ticks": ""
            },
            "colorscale": [
             [
              0,
              "#0d0887"
             ],
             [
              0.1111111111111111,
              "#46039f"
             ],
             [
              0.2222222222222222,
              "#7201a8"
             ],
             [
              0.3333333333333333,
              "#9c179e"
             ],
             [
              0.4444444444444444,
              "#bd3786"
             ],
             [
              0.5555555555555556,
              "#d8576b"
             ],
             [
              0.6666666666666666,
              "#ed7953"
             ],
             [
              0.7777777777777778,
              "#fb9f3a"
             ],
             [
              0.8888888888888888,
              "#fdca26"
             ],
             [
              1,
              "#f0f921"
             ]
            ],
            "type": "heatmap"
           }
          ],
          "heatmapgl": [
           {
            "colorbar": {
             "outlinewidth": 0,
             "ticks": ""
            },
            "colorscale": [
             [
              0,
              "#0d0887"
             ],
             [
              0.1111111111111111,
              "#46039f"
             ],
             [
              0.2222222222222222,
              "#7201a8"
             ],
             [
              0.3333333333333333,
              "#9c179e"
             ],
             [
              0.4444444444444444,
              "#bd3786"
             ],
             [
              0.5555555555555556,
              "#d8576b"
             ],
             [
              0.6666666666666666,
              "#ed7953"
             ],
             [
              0.7777777777777778,
              "#fb9f3a"
             ],
             [
              0.8888888888888888,
              "#fdca26"
             ],
             [
              1,
              "#f0f921"
             ]
            ],
            "type": "heatmapgl"
           }
          ],
          "histogram": [
           {
            "marker": {
             "pattern": {
              "fillmode": "overlay",
              "size": 10,
              "solidity": 0.2
             }
            },
            "type": "histogram"
           }
          ],
          "histogram2d": [
           {
            "colorbar": {
             "outlinewidth": 0,
             "ticks": ""
            },
            "colorscale": [
             [
              0,
              "#0d0887"
             ],
             [
              0.1111111111111111,
              "#46039f"
             ],
             [
              0.2222222222222222,
              "#7201a8"
             ],
             [
              0.3333333333333333,
              "#9c179e"
             ],
             [
              0.4444444444444444,
              "#bd3786"
             ],
             [
              0.5555555555555556,
              "#d8576b"
             ],
             [
              0.6666666666666666,
              "#ed7953"
             ],
             [
              0.7777777777777778,
              "#fb9f3a"
             ],
             [
              0.8888888888888888,
              "#fdca26"
             ],
             [
              1,
              "#f0f921"
             ]
            ],
            "type": "histogram2d"
           }
          ],
          "histogram2dcontour": [
           {
            "colorbar": {
             "outlinewidth": 0,
             "ticks": ""
            },
            "colorscale": [
             [
              0,
              "#0d0887"
             ],
             [
              0.1111111111111111,
              "#46039f"
             ],
             [
              0.2222222222222222,
              "#7201a8"
             ],
             [
              0.3333333333333333,
              "#9c179e"
             ],
             [
              0.4444444444444444,
              "#bd3786"
             ],
             [
              0.5555555555555556,
              "#d8576b"
             ],
             [
              0.6666666666666666,
              "#ed7953"
             ],
             [
              0.7777777777777778,
              "#fb9f3a"
             ],
             [
              0.8888888888888888,
              "#fdca26"
             ],
             [
              1,
              "#f0f921"
             ]
            ],
            "type": "histogram2dcontour"
           }
          ],
          "mesh3d": [
           {
            "colorbar": {
             "outlinewidth": 0,
             "ticks": ""
            },
            "type": "mesh3d"
           }
          ],
          "parcoords": [
           {
            "line": {
             "colorbar": {
              "outlinewidth": 0,
              "ticks": ""
             }
            },
            "type": "parcoords"
           }
          ],
          "pie": [
           {
            "automargin": true,
            "type": "pie"
           }
          ],
          "scatter": [
           {
            "fillpattern": {
             "fillmode": "overlay",
             "size": 10,
             "solidity": 0.2
            },
            "type": "scatter"
           }
          ],
          "scatter3d": [
           {
            "line": {
             "colorbar": {
              "outlinewidth": 0,
              "ticks": ""
             }
            },
            "marker": {
             "colorbar": {
              "outlinewidth": 0,
              "ticks": ""
             }
            },
            "type": "scatter3d"
           }
          ],
          "scattercarpet": [
           {
            "marker": {
             "colorbar": {
              "outlinewidth": 0,
              "ticks": ""
             }
            },
            "type": "scattercarpet"
           }
          ],
          "scattergeo": [
           {
            "marker": {
             "colorbar": {
              "outlinewidth": 0,
              "ticks": ""
             }
            },
            "type": "scattergeo"
           }
          ],
          "scattergl": [
           {
            "marker": {
             "colorbar": {
              "outlinewidth": 0,
              "ticks": ""
             }
            },
            "type": "scattergl"
           }
          ],
          "scattermapbox": [
           {
            "marker": {
             "colorbar": {
              "outlinewidth": 0,
              "ticks": ""
             }
            },
            "type": "scattermapbox"
           }
          ],
          "scatterpolar": [
           {
            "marker": {
             "colorbar": {
              "outlinewidth": 0,
              "ticks": ""
             }
            },
            "type": "scatterpolar"
           }
          ],
          "scatterpolargl": [
           {
            "marker": {
             "colorbar": {
              "outlinewidth": 0,
              "ticks": ""
             }
            },
            "type": "scatterpolargl"
           }
          ],
          "scatterternary": [
           {
            "marker": {
             "colorbar": {
              "outlinewidth": 0,
              "ticks": ""
             }
            },
            "type": "scatterternary"
           }
          ],
          "surface": [
           {
            "colorbar": {
             "outlinewidth": 0,
             "ticks": ""
            },
            "colorscale": [
             [
              0,
              "#0d0887"
             ],
             [
              0.1111111111111111,
              "#46039f"
             ],
             [
              0.2222222222222222,
              "#7201a8"
             ],
             [
              0.3333333333333333,
              "#9c179e"
             ],
             [
              0.4444444444444444,
              "#bd3786"
             ],
             [
              0.5555555555555556,
              "#d8576b"
             ],
             [
              0.6666666666666666,
              "#ed7953"
             ],
             [
              0.7777777777777778,
              "#fb9f3a"
             ],
             [
              0.8888888888888888,
              "#fdca26"
             ],
             [
              1,
              "#f0f921"
             ]
            ],
            "type": "surface"
           }
          ],
          "table": [
           {
            "cells": {
             "fill": {
              "color": "#EBF0F8"
             },
             "line": {
              "color": "white"
             }
            },
            "header": {
             "fill": {
              "color": "#C8D4E3"
             },
             "line": {
              "color": "white"
             }
            },
            "type": "table"
           }
          ]
         },
         "layout": {
          "annotationdefaults": {
           "arrowcolor": "#2a3f5f",
           "arrowhead": 0,
           "arrowwidth": 1
          },
          "autotypenumbers": "strict",
          "coloraxis": {
           "colorbar": {
            "outlinewidth": 0,
            "ticks": ""
           }
          },
          "colorscale": {
           "diverging": [
            [
             0,
             "#8e0152"
            ],
            [
             0.1,
             "#c51b7d"
            ],
            [
             0.2,
             "#de77ae"
            ],
            [
             0.3,
             "#f1b6da"
            ],
            [
             0.4,
             "#fde0ef"
            ],
            [
             0.5,
             "#f7f7f7"
            ],
            [
             0.6,
             "#e6f5d0"
            ],
            [
             0.7,
             "#b8e186"
            ],
            [
             0.8,
             "#7fbc41"
            ],
            [
             0.9,
             "#4d9221"
            ],
            [
             1,
             "#276419"
            ]
           ],
           "sequential": [
            [
             0,
             "#0d0887"
            ],
            [
             0.1111111111111111,
             "#46039f"
            ],
            [
             0.2222222222222222,
             "#7201a8"
            ],
            [
             0.3333333333333333,
             "#9c179e"
            ],
            [
             0.4444444444444444,
             "#bd3786"
            ],
            [
             0.5555555555555556,
             "#d8576b"
            ],
            [
             0.6666666666666666,
             "#ed7953"
            ],
            [
             0.7777777777777778,
             "#fb9f3a"
            ],
            [
             0.8888888888888888,
             "#fdca26"
            ],
            [
             1,
             "#f0f921"
            ]
           ],
           "sequentialminus": [
            [
             0,
             "#0d0887"
            ],
            [
             0.1111111111111111,
             "#46039f"
            ],
            [
             0.2222222222222222,
             "#7201a8"
            ],
            [
             0.3333333333333333,
             "#9c179e"
            ],
            [
             0.4444444444444444,
             "#bd3786"
            ],
            [
             0.5555555555555556,
             "#d8576b"
            ],
            [
             0.6666666666666666,
             "#ed7953"
            ],
            [
             0.7777777777777778,
             "#fb9f3a"
            ],
            [
             0.8888888888888888,
             "#fdca26"
            ],
            [
             1,
             "#f0f921"
            ]
           ]
          },
          "colorway": [
           "#636efa",
           "#EF553B",
           "#00cc96",
           "#ab63fa",
           "#FFA15A",
           "#19d3f3",
           "#FF6692",
           "#B6E880",
           "#FF97FF",
           "#FECB52"
          ],
          "font": {
           "color": "#2a3f5f"
          },
          "geo": {
           "bgcolor": "white",
           "lakecolor": "white",
           "landcolor": "#E5ECF6",
           "showlakes": true,
           "showland": true,
           "subunitcolor": "white"
          },
          "hoverlabel": {
           "align": "left"
          },
          "hovermode": "closest",
          "mapbox": {
           "style": "light"
          },
          "paper_bgcolor": "white",
          "plot_bgcolor": "#E5ECF6",
          "polar": {
           "angularaxis": {
            "gridcolor": "white",
            "linecolor": "white",
            "ticks": ""
           },
           "bgcolor": "#E5ECF6",
           "radialaxis": {
            "gridcolor": "white",
            "linecolor": "white",
            "ticks": ""
           }
          },
          "scene": {
           "xaxis": {
            "backgroundcolor": "#E5ECF6",
            "gridcolor": "white",
            "gridwidth": 2,
            "linecolor": "white",
            "showbackground": true,
            "ticks": "",
            "zerolinecolor": "white"
           },
           "yaxis": {
            "backgroundcolor": "#E5ECF6",
            "gridcolor": "white",
            "gridwidth": 2,
            "linecolor": "white",
            "showbackground": true,
            "ticks": "",
            "zerolinecolor": "white"
           },
           "zaxis": {
            "backgroundcolor": "#E5ECF6",
            "gridcolor": "white",
            "gridwidth": 2,
            "linecolor": "white",
            "showbackground": true,
            "ticks": "",
            "zerolinecolor": "white"
           }
          },
          "shapedefaults": {
           "line": {
            "color": "#2a3f5f"
           }
          },
          "ternary": {
           "aaxis": {
            "gridcolor": "white",
            "linecolor": "white",
            "ticks": ""
           },
           "baxis": {
            "gridcolor": "white",
            "linecolor": "white",
            "ticks": ""
           },
           "bgcolor": "#E5ECF6",
           "caxis": {
            "gridcolor": "white",
            "linecolor": "white",
            "ticks": ""
           }
          },
          "title": {
           "x": 0.05
          },
          "xaxis": {
           "automargin": true,
           "gridcolor": "white",
           "linecolor": "white",
           "ticks": "",
           "title": {
            "standoff": 15
           },
           "zerolinecolor": "white",
           "zerolinewidth": 2
          },
          "yaxis": {
           "automargin": true,
           "gridcolor": "white",
           "linecolor": "white",
           "ticks": "",
           "title": {
            "standoff": 15
           },
           "zerolinecolor": "white",
           "zerolinewidth": 2
          }
         }
        }
       }
      }
     },
     "metadata": {},
     "output_type": "display_data"
    }
   ],
   "source": [
    "go.Figure([go.Scatter(x=df['fname'], y=df['lname'])])\n",
    "go.Figure([go.Scatter(x=df['fname'], y=df['lname'])])"
   ]
  }
 ],
 "metadata": {
  "kernelspec": {
   "display_name": "pocher-CPasnKHm-py3.11",
   "language": "python",
   "name": "python3"
  },
  "language_info": {
   "codemirror_mode": {
    "name": "ipython",
    "version": 3
   },
   "file_extension": ".py",
   "mimetype": "text/x-python",
   "name": "python",
   "nbconvert_exporter": "python",
   "pygments_lexer": "ipython3",
   "version": "3.11.2"
  },
  "orig_nbformat": 4
 },
 "nbformat": 4,
 "nbformat_minor": 2
}
